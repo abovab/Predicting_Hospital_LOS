{
 "cells": [
  {
   "cell_type": "code",
   "execution_count": 148,
   "id": "convinced-funds",
   "metadata": {},
   "outputs": [],
   "source": [
    "import numpy as np\n",
    "import pandas as pd\n",
    "from sklearn.decomposition import PCA\n",
    "from sklearn.preprocessing import MinMaxScaler\n",
    "from sklearn.model_selection import train_test_split"
   ]
  },
  {
   "cell_type": "markdown",
   "id": "suburban-metadata",
   "metadata": {},
   "source": [
    "## Load"
   ]
  },
  {
   "cell_type": "code",
   "execution_count": 208,
   "id": "statutory-champion",
   "metadata": {},
   "outputs": [],
   "source": [
    "X = pd.read_csv('X_y_IV.csv').set_index('HADM_ID')"
   ]
  },
  {
   "cell_type": "markdown",
   "id": "golden-america",
   "metadata": {},
   "source": [
    "## Create Dummy Variables"
   ]
  },
  {
   "cell_type": "code",
   "execution_count": 209,
   "id": "hybrid-google",
   "metadata": {},
   "outputs": [],
   "source": [
    "X = pd.get_dummies(X,columns=['ADMISSION_TYPE','ADMISSION_LOCATION','ETHNICITY'])\n",
    "y = X.pop('LOS')"
   ]
  },
  {
   "cell_type": "markdown",
   "id": "prime-accused",
   "metadata": {},
   "source": [
    "## Train Test Split"
   ]
  },
  {
   "cell_type": "code",
   "execution_count": 210,
   "id": "lyric-element",
   "metadata": {},
   "outputs": [],
   "source": [
    "X_train, X_test, y_train, y_test = train_test_split(X, y, test_size = 0.3, random_state = 42)"
   ]
  },
  {
   "cell_type": "code",
   "execution_count": 236,
   "id": "racial-retro",
   "metadata": {},
   "outputs": [],
   "source": [
    "to_scale = [X.columns[1]] + list(X.columns[3:316])"
   ]
  },
  {
   "cell_type": "markdown",
   "id": "regulated-blair",
   "metadata": {},
   "source": [
    "## Scale Numeric"
   ]
  },
  {
   "cell_type": "code",
   "execution_count": 238,
   "id": "pharmaceutical-headline",
   "metadata": {},
   "outputs": [],
   "source": [
    "scaler = MinMaxScaler()\n",
    "X_train = pd.DataFrame(scaler.fit_transform(X_train,\n",
    "                                            y = to_scale),\n",
    "                       columns = X.columns,\n",
    "                       index   = X_train.index)\n",
    "X_test = pd.DataFrame(scaler.transform(X_test),\n",
    "                      columns = X.columns,\n",
    "                      index   = X_test.index)"
   ]
  },
  {
   "cell_type": "code",
   "execution_count": 239,
   "id": "digital-authorization",
   "metadata": {},
   "outputs": [],
   "source": [
    "X_train.to_csv('X_train.csv')\n",
    "X_test.to_csv('X_test.csv')\n",
    "y_train.to_csv('y_train.csv')\n",
    "y_test.to_csv('y_test.csv')"
   ]
  },
  {
   "cell_type": "markdown",
   "id": "collective-strip",
   "metadata": {},
   "source": [
    "### PCA"
   ]
  },
  {
   "cell_type": "code",
   "execution_count": 240,
   "id": "superior-gazette",
   "metadata": {},
   "outputs": [],
   "source": [
    "pca = PCA(n_components=0.99)\n",
    "X_train_pca = pca.fit_transform(X_train)\n",
    "X_test_pca  = pca.transform(X_test)"
   ]
  },
  {
   "cell_type": "code",
   "execution_count": 241,
   "id": "partial-tiffany",
   "metadata": {},
   "outputs": [
    {
     "data": {
      "text/plain": [
       "(17679, 315)"
      ]
     },
     "execution_count": 241,
     "metadata": {},
     "output_type": "execute_result"
    }
   ],
   "source": [
    "X_test_pca.shape"
   ]
  },
  {
   "cell_type": "code",
   "execution_count": 242,
   "id": "limited-maximum",
   "metadata": {},
   "outputs": [],
   "source": [
    "pd.DataFrame(X_train_pca,\n",
    "             columns=[f'COMPONENT_{c}' for c in range(1,X_test_pca.shape[1]+1)]).\\\n",
    "             to_csv('X_train_pca.csv')\n",
    "pd.DataFrame(X_test_pca,\n",
    "             columns=[f'COMPONENT_{c}' for c in range(1,X_test_pca.shape[1]+1)]).\\\n",
    "             to_csv('X_test_pca.csv')"
   ]
  },
  {
   "cell_type": "code",
   "execution_count": null,
   "id": "entertaining-bible",
   "metadata": {},
   "outputs": [],
   "source": []
  }
 ],
 "metadata": {
  "kernelspec": {
   "display_name": "Python 3",
   "language": "python",
   "name": "python3"
  },
  "language_info": {
   "codemirror_mode": {
    "name": "ipython",
    "version": 3
   },
   "file_extension": ".py",
   "mimetype": "text/x-python",
   "name": "python",
   "nbconvert_exporter": "python",
   "pygments_lexer": "ipython3",
   "version": "3.7.1"
  }
 },
 "nbformat": 4,
 "nbformat_minor": 5
}
