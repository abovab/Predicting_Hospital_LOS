{
 "cells": [
  {
   "cell_type": "code",
   "execution_count": null,
   "id": "creative-elite",
   "metadata": {},
   "outputs": [],
   "source": [
    "import numpy as np\n",
    "import pandas as pd\n",
    "import seaborn as sns\n",
    "from matplotlib import pyplot as plt\n",
    "from sklearn.neural_network import MLPRegressor\n",
    "from sklearn.model_selection import GridSearchCV\n",
    "from sklearn.linear_model import LinearRegression\n",
    "from sklearn.ensemble import RandomForestRegressor\n",
    "plt.style.use('dark_background')"
   ]
  },
  {
   "cell_type": "code",
   "execution_count": null,
   "id": "instructional-growing",
   "metadata": {},
   "outputs": [],
   "source": [
    "def RMSE(y,y_hat):\n",
    "    return ((y-y_hat)**2).sum()/len(y)\n",
    "def MAE(y,y_hat):\n",
    "    return (abs(y-y_hat).sum())/len(y)\n",
    "def evaluate_model(model,X_train,X_test,y_train,y_test,reshape=False):\n",
    "    model     = model.fit(X_train,y_train)\n",
    "    predicted = model.predict(X_test)\n",
    "    r2 = model.score(X_test,y_test)\n",
    "    print(f'Training R2:\\n\\t{model.score(X_train,y_train)}')\n",
    "    print(f'Test R2:\\n\\t{r2}')\n",
    "    return model.predict(X_test),model,r2\n",
    "X_train = pd.read_csv('X_train.csv').drop('HADM_ID',axis=1)\n",
    "X_test  = pd.read_csv('X_test.csv').drop('HADM_ID',axis=1)\n",
    "y_train = pd.read_csv('y_train.csv').drop('HADM_ID',axis=1)\n",
    "y_test  = pd.read_csv('y_test.csv').drop('HADM_ID',axis=1)\n",
    "\n",
    "results_regression,results_forest = y_test.copy(),y_test.copy()"
   ]
  },
  {
   "cell_type": "code",
   "execution_count": null,
   "id": "lonely-provision",
   "metadata": {},
   "outputs": [],
   "source": [
    "# following columns have same mean LoS accross all levels \n",
    "drop = ['SARCOIDOSIS',\n",
    "        'PANCREATIC_CANCER',\n",
    "        'GI_CANCER_OTHER',\n",
    "        'RESPIRATORY_CANCER_OTHER',\n",
    "        'THYROID_CANCER',\n",
    "        'GOITER',\n",
    "        'THYROID_DX_OTHER',\n",
    "        'VITAMIN_DEFICIENCY',\n",
    "        'MENTAL_DX_OTHER',\n",
    "        'EMPHYSEMA',\n",
    "        'OBSTRUCTIVE_PULMONARY_DX_OTHER',\n",
    "        'COPD',\n",
    "        'RESPIRATORY_DX_DT_EXTERNAL_AGENT',\n",
    "        'LUNG_DX_DT_OTHER_DX',\n",
    "        'TAG_SEIZURE',\n",
    "        'TAG_HEART_FAILURE',\n",
    "        'TAG_RESPIRATORY_FAILURE',\n",
    "        'TAG_PULMONARY_EDEMA',\n",
    "        'TAG_RENAL_OTHER',\n",
    "        'TAG_BLEEDING_DX',\n",
    "        'TAG_HEAD_TRAUMA',\n",
    "        'TAG_METASTATIC_CANCER']\n",
    "\n",
    "X_train = X_train.drop(drop,axis=1)\n",
    "X_test = X_test.drop(drop,axis=1)"
   ]
  },
  {
   "cell_type": "code",
   "execution_count": 13,
   "id": "moral-undergraduate",
   "metadata": {},
   "outputs": [
    {
     "name": "stdout",
     "output_type": "stream",
     "text": [
      "Fitting 10 folds for each of 300 candidates, totalling 3000 fits\n"
     ]
    },
    {
     "name": "stderr",
     "output_type": "stream",
     "text": [
      "[Parallel(n_jobs=1)]: Using backend SequentialBackend with 1 concurrent workers.\n"
     ]
    },
    {
     "name": "stdout",
     "output_type": "stream",
     "text": [
      "building tree 1 of 200\n"
     ]
    },
    {
     "name": "stderr",
     "output_type": "stream",
     "text": [
      "[Parallel(n_jobs=1)]: Done   1 out of   1 | elapsed:    0.6s remaining:    0.0s\n"
     ]
    },
    {
     "name": "stdout",
     "output_type": "stream",
     "text": [
      "building tree 2 of 200\n"
     ]
    },
    {
     "name": "stderr",
     "output_type": "stream",
     "text": [
      "[Parallel(n_jobs=1)]: Done   2 out of   2 | elapsed:    1.2s remaining:    0.0s\n"
     ]
    },
    {
     "name": "stdout",
     "output_type": "stream",
     "text": [
      "building tree 3 of 200\n",
      "building tree 4 of 200\n",
      "building tree 5 of 200\n",
      "building tree 6 of 200\n",
      "building tree 7 of 200\n",
      "building tree 8 of 200\n",
      "building tree 9 of 200\n",
      "building tree 10 of 200\n",
      "building tree 11 of 200\n",
      "building tree 12 of 200\n",
      "building tree 13 of 200\n",
      "building tree 14 of 200\n",
      "building tree 15 of 200\n",
      "building tree 16 of 200\n",
      "building tree 17 of 200\n",
      "building tree 18 of 200\n",
      "building tree 19 of 200\n",
      "building tree 20 of 200\n",
      "building tree 21 of 200\n",
      "building tree 22 of 200\n",
      "building tree 23 of 200\n",
      "building tree 24 of 200\n",
      "building tree 25 of 200\n",
      "building tree 26 of 200\n",
      "building tree 27 of 200\n",
      "building tree 28 of 200\n",
      "building tree 29 of 200\n",
      "building tree 30 of 200\n",
      "building tree 31 of 200\n",
      "building tree 32 of 200\n",
      "building tree 33 of 200\n",
      "building tree 34 of 200\n",
      "building tree 35 of 200\n",
      "building tree 36 of 200\n",
      "building tree 37 of 200\n",
      "building tree 38 of 200\n",
      "building tree 39 of 200\n",
      "building tree 40 of 200\n",
      "building tree 41 of 200\n",
      "building tree 42 of 200\n",
      "building tree 43 of 200\n",
      "building tree 44 of 200\n",
      "building tree 45 of 200\n",
      "building tree 46 of 200\n",
      "building tree 47 of 200\n",
      "building tree 48 of 200\n",
      "building tree 49 of 200\n",
      "building tree 50 of 200\n",
      "building tree 51 of 200\n",
      "building tree 52 of 200\n",
      "building tree 53 of 200\n",
      "building tree 54 of 200\n",
      "building tree 55 of 200\n",
      "building tree 56 of 200\n",
      "building tree 57 of 200\n",
      "building tree 58 of 200\n",
      "building tree 59 of 200\n",
      "building tree 60 of 200\n",
      "building tree 61 of 200\n",
      "building tree 62 of 200\n",
      "building tree 63 of 200\n",
      "building tree 64 of 200\n",
      "building tree 65 of 200\n",
      "building tree 66 of 200\n",
      "building tree 67 of 200\n",
      "building tree 68 of 200\n",
      "building tree 69 of 200\n",
      "building tree 70 of 200\n",
      "building tree 71 of 200\n",
      "building tree 72 of 200\n",
      "building tree 73 of 200\n",
      "building tree 74 of 200\n",
      "building tree 75 of 200\n",
      "building tree 76 of 200\n",
      "building tree 77 of 200\n",
      "building tree 78 of 200\n",
      "building tree 79 of 200\n",
      "building tree 80 of 200\n",
      "building tree 81 of 200\n",
      "building tree 82 of 200\n",
      "building tree 83 of 200\n",
      "building tree 84 of 200\n",
      "building tree 85 of 200\n",
      "building tree 86 of 200\n",
      "building tree 87 of 200\n",
      "building tree 88 of 200\n",
      "building tree 89 of 200\n",
      "building tree 90 of 200\n",
      "building tree 91 of 200\n",
      "building tree 92 of 200\n",
      "building tree 93 of 200\n",
      "building tree 94 of 200\n",
      "building tree 95 of 200\n",
      "building tree 96 of 200\n",
      "building tree 97 of 200\n",
      "building tree 98 of 200\n",
      "building tree 99 of 200\n",
      "building tree 100 of 200\n",
      "building tree 101 of 200\n",
      "building tree 102 of 200\n",
      "building tree 103 of 200\n",
      "building tree 104 of 200\n",
      "building tree 105 of 200\n",
      "building tree 106 of 200\n",
      "building tree 107 of 200\n",
      "building tree 108 of 200\n",
      "building tree 109 of 200\n",
      "building tree 110 of 200\n",
      "building tree 111 of 200\n",
      "building tree 112 of 200\n",
      "building tree 113 of 200\n",
      "building tree 114 of 200\n",
      "building tree 115 of 200\n",
      "building tree 116 of 200\n",
      "building tree 117 of 200\n",
      "building tree 118 of 200\n",
      "building tree 119 of 200\n",
      "building tree 120 of 200\n",
      "building tree 121 of 200\n",
      "building tree 122 of 200\n",
      "building tree 123 of 200\n",
      "building tree 124 of 200\n",
      "building tree 125 of 200\n",
      "building tree 126 of 200\n",
      "building tree 127 of 200\n",
      "building tree 128 of 200\n",
      "building tree 129 of 200\n",
      "building tree 130 of 200\n",
      "building tree 131 of 200\n",
      "building tree 132 of 200\n",
      "building tree 133 of 200\n",
      "building tree 134 of 200\n",
      "building tree 135 of 200\n",
      "building tree 136 of 200\n",
      "building tree 137 of 200\n",
      "building tree 138 of 200\n",
      "building tree 139 of 200\n",
      "building tree 140 of 200\n",
      "building tree 141 of 200\n",
      "building tree 142 of 200\n",
      "building tree 143 of 200\n",
      "building tree 144 of 200\n",
      "building tree 145 of 200\n",
      "building tree 146 of 200\n",
      "building tree 147 of 200\n",
      "building tree 148 of 200\n",
      "building tree 149 of 200\n",
      "building tree 150 of 200\n",
      "building tree 151 of 200\n",
      "building tree 152 of 200\n",
      "building tree 153 of 200\n",
      "building tree 154 of 200\n",
      "building tree 155 of 200\n",
      "building tree 156 of 200\n",
      "building tree 157 of 200\n",
      "building tree 158 of 200\n",
      "building tree 159 of 200\n",
      "building tree 160 of 200\n",
      "building tree 161 of 200\n",
      "building tree 162 of 200\n",
      "building tree 163 of 200\n",
      "building tree 164 of 200\n",
      "building tree 165 of 200\n",
      "building tree 166 of 200\n",
      "building tree 167 of 200\n",
      "building tree 168 of 200\n",
      "building tree 169 of 200\n",
      "building tree 170 of 200\n",
      "building tree 171 of 200\n",
      "building tree 172 of 200\n",
      "building tree 173 of 200\n",
      "building tree 174 of 200\n",
      "building tree 175 of 200\n",
      "building tree 176 of 200\n",
      "building tree 177 of 200\n",
      "building tree 178 of 200\n",
      "building tree 179 of 200\n",
      "building tree 180 of 200\n",
      "building tree 181 of 200\n",
      "building tree 182 of 200\n",
      "building tree 183 of 200\n",
      "building tree 184 of 200\n",
      "building tree 185 of 200\n",
      "building tree 186 of 200\n",
      "building tree 187 of 200\n",
      "building tree 188 of 200\n",
      "building tree 189 of 200\n",
      "building tree 190 of 200\n",
      "building tree 191 of 200\n",
      "building tree 192 of 200\n",
      "building tree 193 of 200\n",
      "building tree 194 of 200\n",
      "building tree 195 of 200\n",
      "building tree 196 of 200\n",
      "building tree 197 of 200\n",
      "building tree 198 of 200\n",
      "building tree 199 of 200\n",
      "building tree 200 of 200\n"
     ]
    },
    {
     "name": "stderr",
     "output_type": "stream",
     "text": [
      "[Parallel(n_jobs=1)]: Done 200 out of 200 | elapsed:  2.0min finished\n"
     ]
    }
   ],
   "source": [
    "grid = {'max_depth'       :[25,50,75,None]        ,\n",
    "        'max_features'    :['auto',50,100,150,200],\n",
    "        'min_samples_leaf':[1,5,10,15,20]         ,\n",
    "        'n_estimators'    :[100,150,200]          }\n",
    "\n",
    "grid_fit = GridSearchCV(RandomForestRegressor(criterion='mse',verbose=3), \n",
    "                        grid                                            ,\n",
    "                        cv     = 10                                     ,\n",
    "                        verbose= 3                                      ,\n",
    "                        n_jobs =-1).fit(X_train,y_train.values.ravel()  )"
   ]
  },
  {
   "cell_type": "code",
   "execution_count": 15,
   "id": "exempt-crack",
   "metadata": {},
   "outputs": [
    {
     "data": {
      "text/plain": [
       "['forest_grid.pkl']"
      ]
     },
     "execution_count": 15,
     "metadata": {},
     "output_type": "execute_result"
    }
   ],
   "source": [
    "import joblib\n",
    "\n",
    "joblib.dump(grid_fit, 'forest_grid.pkl')"
   ]
  },
  {
   "cell_type": "code",
   "execution_count": 20,
   "id": "discrete-customer",
   "metadata": {},
   "outputs": [
    {
     "data": {
      "text/plain": [
       "{'max_depth': 50,\n",
       " 'max_features': 100,\n",
       " 'min_samples_leaf': 1,\n",
       " 'n_estimators': 200}"
      ]
     },
     "execution_count": 20,
     "metadata": {},
     "output_type": "execute_result"
    }
   ],
   "source": [
    "grid_fit.best_params_"
   ]
  },
  {
   "cell_type": "code",
   "execution_count": 26,
   "id": "coupled-ivory",
   "metadata": {},
   "outputs": [
    {
     "name": "stdout",
     "output_type": "stream",
     "text": [
      "Training R2:\n",
      "\t0.9336614403239614\n",
      "Test R2:\n",
      "\t0.5373866040686389\n",
      "Training RMSE:\n",
      "\t10.120677390518813\n",
      "Test RMSE:\n",
      "\t74.4626013395759\n"
     ]
    }
   ],
   "source": [
    "forest = RandomForestRegressor(max_depth       = 50 ,\n",
    "                               max_features    = 100,\n",
    "                               min_samples_leaf= 1  ,\n",
    "                               n_estimators    = 200).fit(X_train,y_train.values.ravel())\n",
    "\n",
    "predicted = forest.predict(X_test)\n",
    "\n",
    "print(f'Training R2:\\n\\t{forest.score(X_train,y_train)}')\n",
    "print(f'Test R2:\\n\\t{forest.score(X_test,y_test)}')    \n",
    "print(f'Training RMSE:\\n\\t{RMSE(y_train.LOS,forest.predict(X_train).ravel())}')\n",
    "print(f'Test RMSE:\\n\\t{RMSE(y_test.LOS,forest.predict(X_test).ravel())}')"
   ]
  },
  {
   "cell_type": "code",
   "execution_count": null,
   "id": "renewable-baking",
   "metadata": {},
   "outputs": [],
   "source": []
  }
 ],
 "metadata": {
  "kernelspec": {
   "display_name": "Python 3",
   "language": "python",
   "name": "python3"
  },
  "language_info": {
   "codemirror_mode": {
    "name": "ipython",
    "version": 3
   },
   "file_extension": ".py",
   "mimetype": "text/x-python",
   "name": "python",
   "nbconvert_exporter": "python",
   "pygments_lexer": "ipython3",
   "version": "3.7.1"
  }
 },
 "nbformat": 4,
 "nbformat_minor": 5
}
